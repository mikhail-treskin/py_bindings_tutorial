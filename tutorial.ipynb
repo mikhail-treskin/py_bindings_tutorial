{
 "cells": [
  {
   "cell_type": "markdown",
   "source": [
    "Install binary dependencies and required python modules:\n",
    "* CMake\n",
    "* CFFI\n",
    "* Cython\n",
    "* PyBind11"
   ],
   "metadata": {
    "collapsed": false
   }
  },
  {
   "cell_type": "code",
   "execution_count": 5,
   "outputs": [
    {
     "name": "stderr",
     "output_type": "stream",
     "text": [
      "[ INFO ] Checking for installed CMake...\n",
      "[ INFO ] CMake executable found at /usr/local/bin/cmake\n",
      "\n",
      "[ INFO ] Installing required python modules...\n",
      "[ INFO ] Installation succeed\n"
     ]
    }
   ],
   "source": [
    "from sys import platform\n",
    "import logging as log\n",
    "import subprocess\n",
    "\n",
    "log.basicConfig(format='[ %(levelname)s ] %(message)s', level=log.DEBUG)\n",
    "\n",
    "log.info(\"Checking for installed CMake...\")\n",
    "p = subprocess.run(['which', 'cmake'], stdout=subprocess.PIPE, stderr=subprocess.PIPE)\n",
    "if p.returncode == 0:\n",
    "    log.info(f\"CMake executable found at {p.stdout.decode()}\")\n",
    "else:\n",
    "    log.warn(\"CMake executable not found! Installing ... \")\n",
    "    cmd = ['brew', 'install', 'cmake'] if platform == 'darwin' else ['apt', 'install', 'cmake']\n",
    "    log.info(f\"Running: {' '.join(cmd)}...\")\n",
    "    p = subprocess.run(cmd, stdout=subprocess.PIPE, stderr=subprocess.PIPE)\n",
    "    if p.returncode != 0:\n",
    "        log.error(f\"Failed to install cmake.\\n\"\n",
    "                  f\"Process STDOUT:\\n{p.stdout.decode()}\\n\"\n",
    "                  f\"Process STDERR:\\n{p.stderr.decode()}\")\n",
    "    else:\n",
    "        log.info(\"Installation succeed!\")\n",
    "\n",
    "log.info(\"Installing required python modules...\")\n",
    "p = subprocess.run(['pip', 'install', '-r', 'requirements.txt'], stdout=subprocess.PIPE, stderr=subprocess.PIPE)\n",
    "if p.returncode != 0:\n",
    "    log.error(f\"Failed to install required python modules.\\n\"\n",
    "              f\"Process STDOUT:\\n{p.stdout.decode()}\\n\"\n",
    "              f\"Process STDERR:\\n{p.stderr.decode()}\")\n",
    "else:\n",
    "    log.info(\"Installation succeed\")"
   ],
   "metadata": {
    "collapsed": false,
    "pycharm": {
     "name": "#%%\n"
    }
   }
  },
  {
   "cell_type": "markdown",
   "source": [
    "Bellow you can find C library functions declaration. For more convenience listings with each function implmentation\n",
    "will be added bellow right before using it from python.\n",
    "\n",
    "c_library/library.h\n",
    "```c\n",
    "//  CFFI doesn't support directives in headers\n",
    "//  So for compatibility reason all includes moved to .c files\n",
    "//#include <stdio.h>\n",
    "//#include <string.h>\n",
    "//#include <unistd.h>\n",
    "\n",
    "int func_ret_int(int val);\n",
    "double func_ret_double(double val);\n",
    "char *func_ret_str(char *val);\n",
    "char func_many_args(int val1, double val2, char val3, short val4);\n",
    "\n",
    "\n",
    "void arr_minus_one(void *data, unsigned int arr_size, unsigned int el_size, char *el_type);\n",
    "int *gen_static_arr();\n",
    "void gen_arr(int *arr, unsigned int size);\n",
    "void qsort_wrap(int *arr, unsigned int size, unsigned int el_size);\n",
    "int comp (const int *a, const int *b);\n",
    "```\n",
    "Here is brief description of each method and its purpose:\n",
    "* Functions demonstrating working with basic types. Do nothing besides of receiving arguments of certain types,\n",
    "printing basic information, which will show us that real C function was invoked, and returning some value.\n",
    "```c\n",
    "int func_ret_int(int val);\n",
    "double func_ret_double(double val);\n",
    "char *func_ret_str(char *val);\n",
    "char func_many_args(int val1, double val2, char val3, short val4);\n",
    "```\n",
    "* Functions demonstrating how to manipulate with arrays:\n",
    "    *  `void arr_minus_one(void *data, unsigned int arr_size, unsigned int el_size, char *el_type);` - receives an\n",
    "    untyped array `void *data`, elements count in array `unsigned int arr_size`,\n",
    "    element size in bytes `unsigned int el_size` and string representation of array's element data type `char *el_type`.\n",
    "    The function iterates over passed array and subtract 1 from each element without memory copying.\n",
    "    * `int *gen_static_arr();` - generates static array with 10 integer sequential elements starting from 0 and returns\n",
    "    pointer to generated array (Bad array generation approach)\n",
    "    * `void gen_arr(int *arr, unsigned int size);` - fill pre-allocated integer array `int *arr` of given size\n",
    "    `unsigned int size` with integer values in range `[0, size - 1]`\n",
    "    * `void qsort_wrap(int *arr, unsigned int size, unsigned int el_size);` - wraps standard quick sort algorithm from libc.\n",
    "    Will be used for performance comparison between C, Python and mixed quick sort implementation\n",
    "    * `int comp (const int *a, const int *b)` - C implementation of comparison function required by standard qsort\n",
    "    function from libc\n"
   ],
   "metadata": {
    "collapsed": false,
    "pycharm": {
     "name": "#%% md\n"
    }
   }
  },
  {
   "cell_type": "markdown",
   "source": [
    "Building C library from sources."
   ],
   "metadata": {
    "collapsed": false
   }
  },
  {
   "cell_type": "code",
   "execution_count": 6,
   "outputs": [
    {
     "name": "stderr",
     "output_type": "stream",
     "text": [
      "[ INFO ] Running CMake...\n",
      "[ INFO ] CMake files generation succeed!\n",
      "STDOUT:\n",
      " -- The C compiler identification is AppleClang 12.0.0.12000031\n",
      "-- Detecting C compiler ABI info\n",
      "-- Detecting C compiler ABI info - done\n",
      "-- Check for working C compiler: /Library/Developer/CommandLineTools/usr/bin/cc - skipped\n",
      "-- Detecting C compile features\n",
      "-- Detecting C compile features - done\n",
      "-- Configuring done\n",
      "-- Generating done\n",
      "-- Build files have been written to: /Users/mikhailtreskin/repos/py_bindings_tutorial/c_library/build\n",
      "\n",
      "\n",
      "[ INFO ] Running library building with make...\n",
      "[ INFO ] Building suceed succeed!\n",
      "STDOUT:\n",
      " Scanning dependencies of target bindings_demo\n",
      "[ 25%] Building C object CMakeFiles/bindings_demo.dir/basic_funcs.c.o\n",
      "[ 50%] Building C object CMakeFiles/bindings_demo.dir/arrays.c.o\n",
      "[ 75%] Building C object CMakeFiles/bindings_demo.dir/vars.c.o\n",
      "[100%] Linking C shared library libbindings_demo.dylib\n",
      "[100%] Built target bindings_demo\n",
      "\n",
      "\n",
      "[ INFO ] Compiled library located at /Users/mikhailtreskin/repos/py_bindings_tutorial/c_library/build/libbindings_demo.dylib\n"
     ]
    }
   ],
   "source": [
    "import os\n",
    "import shutil\n",
    "\n",
    "TUTOR_ROOT = os.getcwd()\n",
    "CMAKE_ROOT_FOLDER = os.path.join(TUTOR_ROOT, 'c_library',)\n",
    "BUILD_FOLDER = os.path.join(CMAKE_ROOT_FOLDER, 'build')\n",
    "if os.path.exists(BUILD_FOLDER):\n",
    "    shutil.rmtree(BUILD_FOLDER)\n",
    "os.mkdir(BUILD_FOLDER)\n",
    "\n",
    "os.chdir(BUILD_FOLDER)\n",
    "log.info(\"Running CMake...\")\n",
    "p = subprocess.run(['cmake', os.path.pardir], stdout=subprocess.PIPE, stderr=subprocess.PIPE)\n",
    "if p.returncode != 0:\n",
    "    log.error(\"CMake run failed!\\n\"\n",
    "              f\"STDOUT:\\n {p.stdout.decode()}\\n\"\n",
    "              f\"STDERR:\\n {p.stderr.decode()}\\n\")\n",
    "else:\n",
    "    log.info(\"CMake files generation succeed!\\n\"\n",
    "             f\"STDOUT:\\n {p.stdout.decode()}\\n\")\n",
    "\n",
    "log.info(\"Running library building with make...\")\n",
    "p = subprocess.run(['make'], stdout=subprocess.PIPE, stderr=subprocess.PIPE)\n",
    "if p.returncode != 0:\n",
    "    log.error(\"Building failed!\\n\"\n",
    "              f\"STDOUT:\\n {p.stdout.decode()}\\n\"\n",
    "              f\"STDERR:\\n {p.stderr.decode()}\\n\")\n",
    "else:\n",
    "    log.info(\"Building suceed succeed!\\n\"\n",
    "             f\"STDOUT:\\n {p.stdout.decode()}\\n\")\n",
    "\n",
    "os.chdir(TUTOR_ROOT)\n",
    "\n",
    "if platform in (\"linux\", \"linux2\"):\n",
    "    C_LIB_NAME = \"libbindings_demo.so\"\n",
    "elif platform == \"darwin\":\n",
    "    C_LIB_NAME = \"libbindings_demo.dylib\"\n",
    "else:\n",
    "    raise OSError(f\"Unsupported platform {platform}\")\n",
    "C_LIB_PATH = os.path.join(BUILD_FOLDER, C_LIB_NAME)\n",
    "if not os.path.exists(C_LIB_PATH):\n",
    "    raise FileNotFoundError(f\"Compiled library not found at {C_LIB_PATH}\")\n",
    "else:\n",
    "    log.info(f\"Compiled library located at {C_LIB_PATH}\")"
   ],
   "metadata": {
    "collapsed": false,
    "pycharm": {
     "name": "#%%\n"
    }
   }
  },
  {
   "cell_type": "markdown",
   "source": [
    "**Ctypes demo**\n",
    "\n",
    "[ctypes](https://docs.python.org/3/library/ctypes.html) is a foreign function library for Python. It provides C\n",
    "compatible data types, and allows calling functions in DLLs or shared libraries. It can be used to wrap these libraries in pure Python.\n",
    "\n",
    "What's stands for foreign function library? It's a library which implements foreign function interface (FFI) convention\n",
    "between two certain languages - between C as a host language and Python as a guest language in case of ctypes.\n",
    "Briefly, FFI is an interface that allows code written in one language to call code written in another language.\n",
    "Ctypes rely on [libffi](https://github.com/libffi/libffi) library implementing FFI calling convention for C as a host language.\n",
    "\n",
    "Ctypes allows to make calls to C functions and refere to C objects from Python in a relatively easy way. Let's go\n",
    "through several examples to on how to interact with precompiled C library from Python using ctypes\n",
    "\n",
    "First of all we have to load dynamic linked library in a following way (on Windows WINDLL call should be used instead CDLL)"
   ],
   "metadata": {
    "collapsed": false
   }
  },
  {
   "cell_type": "code",
   "execution_count": 7,
   "outputs": [],
   "source": [
    "import ctypes\n",
    "\n",
    "lib = ctypes.CDLL(C_LIB_PATH)"
   ],
   "metadata": {
    "collapsed": false,
    "pycharm": {
     "name": "#%%\n"
    }
   }
  },
  {
   "cell_type": "markdown",
   "source": [
    "And now we have an access to all of the functions mentioned above and declared in `c_library/library.h`.\n",
    "Let's start from calling a simple functions consuming one or several \"simple\" arguments."
   ],
   "metadata": {
    "collapsed": false,
    "pycharm": {
     "name": "#%% md\n"
    }
   }
  },
  {
   "cell_type": "markdown",
   "source": [
    "*Functions listed bellow are defined in `c_library/basic_funcs.c`*\n",
    "\n",
    "Working with integers on example of pretty simple C function consuming integer argument performing logging print from C\n",
    "code and then returns same integer value, which was provided as an input argument:\n",
    "```c\n",
    "int func_ret_int(int val) {\n",
    "    printf(\"From C Library: func_ret_int: %d\\n\", val);\n",
    "    return val;\n",
    "}\n",
    "\n",
    "double func_ret_double(double val) {\n",
    "    printf(\"From C Library: func_ret_double: %f\\n\", val);\n",
    "    return val;\n",
    "}\n",
    "\n",
    "```\n",
    "\n",
    "To call functions from C library we have to describe it's signature in Python by specifying input arguments types\n",
    "and return value type of desired C function. And then we can call it as an usual Python method."
   ],
   "metadata": {
    "collapsed": false
   }
  },
  {
   "cell_type": "code",
   "execution_count": 8,
   "outputs": [
    {
     "name": "stdout",
     "output_type": "stream",
     "text": [
      "From C Library: func_ret_int: 101\n",
      "From Python Script: func_ret_int:  101\n",
      "From C Library: func_ret_double: 12.123457\n",
      "From Python Script: func_ret_double:  12.123456789\n"
     ]
    }
   ],
   "source": [
    "# Jupyter notebook suppress default output from our C library so custom manager to capture stdout from C was added\n",
    "from stdout_capture import capture_c_stdout\n",
    "\n",
    "# Specifying return type of the func_ret_int C function\n",
    "lib.func_ret_int.restype = ctypes.c_int\n",
    "# Specifying input arguments type of the func_ret_int C function\n",
    "lib.func_ret_int.argtypes = [ctypes.c_int, ]\n",
    "\n",
    "# Same for double data type\n",
    "lib.func_ret_double.restype = ctypes.c_double\n",
    "lib.func_ret_double.argtypes = [ctypes.c_double]\n",
    "with capture_c_stdout():\n",
    "    print('From Python Script: func_ret_int: ', lib.func_ret_int(101))\n",
    "    print('From Python Script: func_ret_double: ', lib.func_ret_double(12.123456789))"
   ],
   "metadata": {
    "collapsed": false,
    "pycharm": {
     "name": "#%%\n"
    }
   }
  },
  {
   "cell_type": "markdown",
   "source": [
    "The same for char functions like:\n",
    "```c\n",
    "char * func_ret_str(char *val) {\n",
    "    printf(\"From C Library: func_ret_str: %s\\n\", val);\n",
    "    return val;\n",
    "}\n",
    "```\n",
    "\n",
    "On Python level the only important aspects is that we have to encode input strings to bytearray and then also decode\n",
    "return value"
   ],
   "metadata": {
    "collapsed": false
   }
  },
  {
   "cell_type": "code",
   "execution_count": 10,
   "outputs": [
    {
     "name": "stdout",
     "output_type": "stream",
     "text": [
      "From C Library: func_ret_str: Hello!\n",
      "From Python Script: func_ret_str:  Hello!\n"
     ]
    }
   ],
   "source": [
    "lib.func_ret_str.restype = ctypes.c_char_p\n",
    "lib.func_ret_str.argtypes = [ctypes.c_char_p, ]\n",
    "with capture_c_stdout():\n",
    "    print('From Python Script: func_ret_str: ', lib.func_ret_str('Hello!'.encode('utf-8')).decode(\"utf-8\"))"
   ],
   "metadata": {
    "collapsed": false,
    "pycharm": {
     "name": "#%%\n"
    }
   }
  },
  {
   "cell_type": "markdown",
   "source": [
    "Also nothing outstanding for functions with several input arguments with different data types, e.g.:\n",
    "\n",
    "```c\n",
    "char func_many_args(int val1, double val2, char val3, short val4) {\n",
    "    printf(\"From C Library: func_many_args: int - %d, double - %f, char - %c, short - %d\\n\", val1, val2, val3, val4);\n",
    "    return val3;\n",
    "}\n",
    "```\n",
    "To call the function all input argument types have to be defined in proper order:"
   ],
   "metadata": {
    "collapsed": false
   }
  },
  {
   "cell_type": "code",
   "execution_count": 11,
   "outputs": [
    {
     "name": "stdout",
     "output_type": "stream",
     "text": [
      "From C Library: func_many_args: int - 15, double - 18.161700, char - X, short - 32000\n",
      "From Python Script: func_many_args:  X\n"
     ]
    }
   ],
   "source": [
    "lib.func_many_args.restype = ctypes.c_char\n",
    "lib.func_many_args.argtypes = [ctypes.c_int, ctypes.c_double, ctypes.c_char, ctypes.c_short]\n",
    "with capture_c_stdout():\n",
    "    print('From Python Script: func_many_args: ',\n",
    "      lib.func_many_args(15, 18.1617, 'X'.encode('utf-8'), 32000).decode(\"utf-8\"))"
   ],
   "metadata": {
    "collapsed": false,
    "pycharm": {
     "name": "#%%\n"
    }
   }
  },
  {
   "cell_type": "markdown",
   "source": [
    "Ctypes also allows to access and modify variables from C library. In `c_library/vars.h` we have defined following variables\n",
    "```c\n",
    "int a = 5;\n",
    "double b = 5.12345;\n",
    "char c = 'X';\n",
    "```\n",
    "\n",
    "To access variables from loaded C library we need ro use `in_dll()` class method of corresponding data type of variable\n",
    "we going to access. `in_dll()` requires two input arguments - the 1st is an loaded library handler, and the 2nd is string\n",
    "with variable name. E.g.:"
   ],
   "metadata": {
    "collapsed": false
   }
  },
  {
   "cell_type": "code",
   "execution_count": 12,
   "outputs": [
    {
     "name": "stdout",
     "output_type": "stream",
     "text": [
      "From Python Script: a:  5\n",
      "From Python Script: b:  5.12345\n",
      "From Python Script: c:  X\n"
     ]
    }
   ],
   "source": [
    "a = ctypes.c_int.in_dll(lib, \"a\")\n",
    "print('From Python Script: a: ', a.value)\n",
    "b = ctypes.c_double.in_dll(lib, \"b\")\n",
    "print('From Python Script: b: ', b.value)\n",
    "c = ctypes.c_char.in_dll(lib, \"c\")\n",
    "print('From Python Script: c: ', c.value.decode(\"utf-8\"))\n"
   ],
   "metadata": {
    "collapsed": false,
    "pycharm": {
     "name": "#%%\n"
    }
   }
  },
  {
   "cell_type": "markdown",
   "source": [
    "Variables exported form a library can be modified in a following way"
   ],
   "metadata": {
    "collapsed": false,
    "pycharm": {
     "name": "#%% md\n"
    }
   }
  },
  {
   "cell_type": "code",
   "execution_count": 13,
   "outputs": [
    {
     "name": "stdout",
     "output_type": "stream",
     "text": [
      "'a' initial value: 5\n",
      "'a' modified value: 22\n"
     ]
    }
   ],
   "source": [
    "print(f\"'a' initial value: {a.value}\")\n",
    "a.value = 22\n",
    "a = ctypes.c_int.in_dll(lib, \"a\")\n",
    "print(f\"'a' modified value: {a.value}\")"
   ],
   "metadata": {
    "collapsed": false,
    "pycharm": {
     "name": "#%%\n"
    }
   }
  },
  {
   "cell_type": "markdown",
   "source": [
    "OK, it were a simple examples which barely will be used in real life and were provided as introduction and way\n",
    "to understand how ctypes works. But what about real life examples?\n",
    "\n",
    "Bellow we will have a look on how to have a deal with C arrays basing on manipulation with numpy arrays.\n",
    "# TBA\n",
    "# TBA\n",
    "# TBA\n",
    "# TBA"
   ],
   "metadata": {
    "collapsed": false
   }
  }
 ],
 "metadata": {
  "kernelspec": {
   "display_name": "Python 3",
   "language": "python",
   "name": "python3"
  },
  "language_info": {
   "codemirror_mode": {
    "name": "ipython",
    "version": 2
   },
   "file_extension": ".py",
   "mimetype": "text/x-python",
   "name": "python",
   "nbconvert_exporter": "python",
   "pygments_lexer": "ipython2",
   "version": "2.7.6"
  }
 },
 "nbformat": 4,
 "nbformat_minor": 0
}