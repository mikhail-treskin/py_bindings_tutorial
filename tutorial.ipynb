{
 "cells": [
  {
   "cell_type": "markdown",
   "source": [
    "#### Install binary dependencies and required python modules:\n",
    "* CMake\n",
    "* CFFI\n",
    "* Cython\n",
    "* PyBind11\n",
    "* numpy"
   ],
   "metadata": {
    "collapsed": false
   }
  },
  {
   "cell_type": "code",
   "execution_count": 3,
   "outputs": [
    {
     "name": "stderr",
     "output_type": "stream",
     "text": [
      "[ INFO ] Checking for installed CMake...\n",
      "[ INFO ] CMake executable found at /usr/local/bin/cmake\n",
      "\n",
      "[ INFO ] Installing required python modules...\n",
      "[ INFO ] Installation succeed\n"
     ]
    }
   ],
   "source": [
    "from sys import platform\n",
    "import logging as log\n",
    "import subprocess\n",
    "\n",
    "log.basicConfig(format='[ %(levelname)s ] %(message)s', level=log.DEBUG)\n",
    "\n",
    "log.info(\"Checking for installed CMake...\")\n",
    "p = subprocess.run(['which', 'cmake'], stdout=subprocess.PIPE, stderr=subprocess.PIPE)\n",
    "if p.returncode == 0:\n",
    "    log.info(f\"CMake executable found at {p.stdout.decode()}\")\n",
    "else:\n",
    "    log.warn(\"CMake executable not found! Installing ... \")\n",
    "    cmd = ['brew', 'install', 'cmake'] if platform == 'darwin' else ['apt', 'install', 'cmake']\n",
    "    log.info(f\"Running: {' '.join(cmd)}...\")\n",
    "    p = subprocess.run(cmd, stdout=subprocess.PIPE, stderr=subprocess.PIPE)\n",
    "    if p.returncode != 0:\n",
    "        log.error(f\"Failed to install cmake.\\n\"\n",
    "                  f\"Process STDOUT:\\n{p.stdout.decode()}\\n\"\n",
    "                  f\"Process STDERR:\\n{p.stderr.decode()}\")\n",
    "    else:\n",
    "        log.info(\"Installation succeed!\")\n",
    "\n",
    "log.info(\"Installing required python modules...\")\n",
    "p = subprocess.run(['pip', 'install', '-r', 'requirements.txt'], stdout=subprocess.PIPE, stderr=subprocess.PIPE)\n",
    "if p.returncode != 0:\n",
    "    log.error(f\"Failed to install required python modules.\\n\"\n",
    "              f\"Process STDOUT:\\n{p.stdout.decode()}\\n\"\n",
    "              f\"Process STDERR:\\n{p.stderr.decode()}\")\n",
    "else:\n",
    "    log.info(\"Installation succeed\")"
   ],
   "metadata": {
    "collapsed": false,
    "pycharm": {
     "name": "#%%\n"
    }
   }
  },
  {
   "cell_type": "markdown",
   "source": [
    "Bellow you can find C library functions declaration. For more convenience listings with each function implmentation\n",
    "will be added bellow right before using it from python.\n",
    "\n",
    "c_library/library.h\n",
    "```c\n",
    "//  CFFI doesn't support directives in headers\n",
    "//  So for compatibility reason all includes moved to .c files\n",
    "//#include <stdio.h>\n",
    "//#include <string.h>\n",
    "//#include <unistd.h>\n",
    "\n",
    "int func_ret_int(int val);\n",
    "double func_ret_double(double val);\n",
    "char *func_ret_str(char *val);\n",
    "char func_many_args(int val1, double val2, char val3, short val4);\n",
    "\n",
    "\n",
    "void arr_minus_one(void *data, unsigned int arr_size, unsigned int el_size, char *el_type);\n",
    "int *gen_static_arr();\n",
    "void gen_arr(int *arr, unsigned int size);\n",
    "void qsort_wrap(int *arr, unsigned int size, unsigned int el_size);\n",
    "int comp (const int *a, const int *b);\n",
    "```\n",
    "Here is brief description of each method and its purpose:\n",
    "* Functions demonstrating working with basic types. Do nothing besides of receiving arguments of certain types,\n",
    "printing basic information, which will show us that real C function was invoked, and returning some value.\n",
    "```c\n",
    "int func_ret_int(int val);\n",
    "double func_ret_double(double val);\n",
    "char *func_ret_str(char *val);\n",
    "char func_many_args(int val1, double val2, char val3, short val4);\n",
    "```\n",
    "* Functions demonstrating how to manipulate with arrays:\n",
    "    *  `void arr_minus_one(void *data, unsigned int arr_size, unsigned int el_size, char *el_type);` - receives an\n",
    "    untyped array `void *data`, elements count in array `unsigned int arr_size`,\n",
    "    element size in bytes `unsigned int el_size` and string representation of array's element data type `char *el_type`.\n",
    "    The function iterates over passed array and subtract 1 from each element without memory copying.\n",
    "    * `int *gen_static_arr();` - generates static array with 10 integer sequential elements starting from 0 and returns\n",
    "    pointer to generated array\n",
    "    * `void gen_arr(int *arr, unsigned int size);` - fill pre-allocated integer array `int *arr` of given size\n",
    "    `unsigned int size` with integer values in range `[0, size - 1]`\n",
    "    * `void qsort_wrap(int *arr, unsigned int size, unsigned int el_size);` - wraps standard quick sort algorithm from libc.\n",
    "    Will be used for performance comparison between C, Python and mixed quick sort implementation\n",
    "    * `int comp (const int *a, const int *b)` - C implementation of comparison function required by standard qsort\n",
    "    function from libc\n"
   ],
   "metadata": {
    "collapsed": false,
    "pycharm": {
     "name": "#%% md\n"
    }
   }
  },
  {
   "cell_type": "markdown",
   "source": [
    "#### Building C library from sources."
   ],
   "metadata": {
    "collapsed": false
   }
  },
  {
   "cell_type": "code",
   "execution_count": 4,
   "outputs": [
    {
     "name": "stderr",
     "output_type": "stream",
     "text": [
      "[ INFO ] Running CMake...\n",
      "[ INFO ] CMake files generation succeed!\n",
      "STDOUT:\n",
      " -- The C compiler identification is AppleClang 12.0.0.12000031\n",
      "-- Detecting C compiler ABI info\n",
      "-- Detecting C compiler ABI info - done\n",
      "-- Check for working C compiler: /Library/Developer/CommandLineTools/usr/bin/cc - skipped\n",
      "-- Detecting C compile features\n",
      "-- Detecting C compile features - done\n",
      "-- Configuring done\n",
      "-- Generating done\n",
      "-- Build files have been written to: /Users/mikhailtreskin/repos/py_bindings_tutorial/c_library/build\n",
      "\n",
      "\n",
      "[ INFO ] Running library building with make...\n",
      "[ INFO ] Building suceed succeed!\n",
      "STDOUT:\n",
      " Scanning dependencies of target bindings_demo\n",
      "[ 25%] Building C object CMakeFiles/bindings_demo.dir/basic_funcs.c.o\n",
      "[ 50%] Building C object CMakeFiles/bindings_demo.dir/arrays.c.o\n",
      "[ 75%] Building C object CMakeFiles/bindings_demo.dir/vars.c.o\n",
      "[100%] Linking C shared library libbindings_demo.dylib\n",
      "[100%] Built target bindings_demo\n",
      "\n",
      "\n",
      "[ INFO ] Compiled library located at /Users/mikhailtreskin/repos/py_bindings_tutorial/c_library/build/libbindings_demo.dylib\n"
     ]
    }
   ],
   "source": [
    "import os\n",
    "import shutil\n",
    "\n",
    "TUTOR_ROOT = os.getcwd()\n",
    "CMAKE_ROOT_FOLDER = os.path.join(TUTOR_ROOT, 'c_library',)\n",
    "BUILD_FOLDER = os.path.join(CMAKE_ROOT_FOLDER, 'build')\n",
    "if os.path.exists(BUILD_FOLDER):\n",
    "    shutil.rmtree(BUILD_FOLDER)\n",
    "os.mkdir(BUILD_FOLDER)\n",
    "\n",
    "os.chdir(BUILD_FOLDER)\n",
    "log.info(\"Running CMake...\")\n",
    "p = subprocess.run(['cmake', os.path.pardir], stdout=subprocess.PIPE, stderr=subprocess.PIPE)\n",
    "if p.returncode != 0:\n",
    "    log.error(\"CMake run failed!\\n\"\n",
    "              f\"STDOUT:\\n {p.stdout.decode()}\\n\"\n",
    "              f\"STDERR:\\n {p.stderr.decode()}\\n\")\n",
    "else:\n",
    "    log.info(\"CMake files generation succeed!\\n\"\n",
    "             f\"STDOUT:\\n {p.stdout.decode()}\\n\")\n",
    "\n",
    "log.info(\"Running library building with make...\")\n",
    "p = subprocess.run(['make'], stdout=subprocess.PIPE, stderr=subprocess.PIPE)\n",
    "if p.returncode != 0:\n",
    "    log.error(\"Building failed!\\n\"\n",
    "              f\"STDOUT:\\n {p.stdout.decode()}\\n\"\n",
    "              f\"STDERR:\\n {p.stderr.decode()}\\n\")\n",
    "else:\n",
    "    log.info(\"Building suceed succeed!\\n\"\n",
    "             f\"STDOUT:\\n {p.stdout.decode()}\\n\")\n",
    "\n",
    "os.chdir(TUTOR_ROOT)\n",
    "\n",
    "if platform in (\"linux\", \"linux2\"):\n",
    "    C_LIB_NAME = \"libbindings_demo.so\"\n",
    "elif platform == \"darwin\":\n",
    "    C_LIB_NAME = \"libbindings_demo.dylib\"\n",
    "else:\n",
    "    raise OSError(f\"Unsupported platform {platform}\")\n",
    "C_LIB_PATH = os.path.join(BUILD_FOLDER, C_LIB_NAME)\n",
    "if not os.path.exists(C_LIB_PATH):\n",
    "    raise FileNotFoundError(f\"Compiled library not found at {C_LIB_PATH}\")\n",
    "else:\n",
    "    log.info(f\"Compiled library located at {C_LIB_PATH}\")"
   ],
   "metadata": {
    "collapsed": false,
    "pycharm": {
     "name": "#%%\n"
    }
   }
  },
  {
   "cell_type": "markdown",
   "source": [
    "### Ctypes demo\n",
    "\n",
    "[ctypes](https://docs.python.org/3/library/ctypes.html) is a foreign function library for Python. It provides C\n",
    "compatible data types, and allows calling functions in DLLs or shared libraries. It can be used to wrap these libraries in pure Python.\n",
    "\n",
    "What's stands for foreign function library? It's a library which implements foreign function interface (FFI) convention\n",
    "between two certain languages - between C as a host language and Python as a guest language in case of ctypes.\n",
    "Briefly, FFI is an interface that allows code written in one language to call code written in another language.\n",
    "Ctypes rely on [libffi](https://github.com/libffi/libffi) library implementing FFI calling convention for C as a host language.\n",
    "\n",
    "Ctypes allows to make calls to C functions and refere to C objects from Python in a relatively easy way. Let's go\n",
    "through several examples to on how to interact with precompiled C library from Python using ctypes\n",
    "\n",
    "First of all we have to load dynamic linked library in a following way (on Windows WINDLL call should be used instead CDLL)"
   ],
   "metadata": {
    "collapsed": false
   }
  },
  {
   "cell_type": "code",
   "execution_count": 5,
   "outputs": [],
   "source": [
    "import ctypes\n",
    "\n",
    "lib = ctypes.CDLL(C_LIB_PATH)"
   ],
   "metadata": {
    "collapsed": false,
    "pycharm": {
     "name": "#%%\n"
    }
   }
  },
  {
   "cell_type": "markdown",
   "source": [
    "And now we have an access to all of the functions mentioned above and declared in `c_library/library.h`.\n",
    "Let's start from calling a simple functions consuming one or several \"simple\" arguments."
   ],
   "metadata": {
    "collapsed": false,
    "pycharm": {
     "name": "#%% md\n"
    }
   }
  },
  {
   "cell_type": "markdown",
   "source": [
    "*Functions listed bellow are defined in `c_library/basic_funcs.c`*\n",
    "\n",
    "Working with integers on example of pretty simple C function consuming integer argument performing logging print from C\n",
    "code and then returns same integer value, which was provided as an input argument:\n",
    "```c\n",
    "int func_ret_int(int val) {\n",
    "    printf(\"From C Library: func_ret_int: %d\\n\", val);\n",
    "    return val;\n",
    "}\n",
    "\n",
    "double func_ret_double(double val) {\n",
    "    printf(\"From C Library: func_ret_double: %f\\n\", val);\n",
    "    return val;\n",
    "}\n",
    "\n",
    "```\n",
    "\n",
    "To call functions from C library we have to describe it's signature in Python by specifying input arguments types\n",
    "and return value type of desired C function. And then we can call it as an usual Python method."
   ],
   "metadata": {
    "collapsed": false
   }
  },
  {
   "cell_type": "code",
   "execution_count": 6,
   "outputs": [
    {
     "name": "stdout",
     "output_type": "stream",
     "text": [
      "From C Library: func_ret_int: 101\n",
      "From Python Script: func_ret_int:  101\n",
      "From C Library: func_ret_double: 12.123457\n",
      "From Python Script: func_ret_double:  12.123456789\n"
     ]
    }
   ],
   "source": [
    "# Jupyter notebook suppress default output from our C library so custom manager to capture stdout from C was added\n",
    "from stdout_capture import capture_c_stdout\n",
    "\n",
    "# Specifying return type of the func_ret_int C function\n",
    "lib.func_ret_int.restype = ctypes.c_int\n",
    "# Specifying input arguments type of the func_ret_int C function\n",
    "lib.func_ret_int.argtypes = [ctypes.c_int, ]\n",
    "\n",
    "# Same for double data type\n",
    "lib.func_ret_double.restype = ctypes.c_double\n",
    "lib.func_ret_double.argtypes = [ctypes.c_double]\n",
    "with capture_c_stdout():\n",
    "    print('From Python Script: func_ret_int: ', lib.func_ret_int(101))\n",
    "    print('From Python Script: func_ret_double: ', lib.func_ret_double(12.123456789))"
   ],
   "metadata": {
    "collapsed": false,
    "pycharm": {
     "name": "#%%\n"
    }
   }
  },
  {
   "cell_type": "markdown",
   "source": [
    "The same for char functions like:\n",
    "```c\n",
    "char * func_ret_str(char *val) {\n",
    "    printf(\"From C Library: func_ret_str: %s\\n\", val);\n",
    "    return val;\n",
    "}\n",
    "```\n",
    "\n",
    "On Python level the only important aspects is that we have to encode input strings to bytearray and then also decode\n",
    "return value"
   ],
   "metadata": {
    "collapsed": false
   }
  },
  {
   "cell_type": "code",
   "execution_count": 7,
   "outputs": [
    {
     "name": "stdout",
     "output_type": "stream",
     "text": [
      "From C Library: func_ret_str: Hello!\n",
      "From Python Script: func_ret_str:  Hello!\n"
     ]
    }
   ],
   "source": [
    "lib.func_ret_str.restype = ctypes.c_char_p\n",
    "lib.func_ret_str.argtypes = [ctypes.c_char_p, ]\n",
    "with capture_c_stdout():\n",
    "    print('From Python Script: func_ret_str: ', lib.func_ret_str('Hello!'.encode('utf-8')).decode(\"utf-8\"))"
   ],
   "metadata": {
    "collapsed": false,
    "pycharm": {
     "name": "#%%\n"
    }
   }
  },
  {
   "cell_type": "markdown",
   "source": [
    "Also nothing outstanding for functions with several input arguments with different data types, e.g.:\n",
    "\n",
    "```c\n",
    "char func_many_args(int val1, double val2, char val3, short val4) {\n",
    "    printf(\"From C Library: func_many_args: int - %d, double - %f, char - %c, short - %d\\n\", val1, val2, val3, val4);\n",
    "    return val3;\n",
    "}\n",
    "```\n",
    "To call the function all input argument types have to be defined in proper order:"
   ],
   "metadata": {
    "collapsed": false
   }
  },
  {
   "cell_type": "code",
   "execution_count": 8,
   "outputs": [
    {
     "name": "stdout",
     "output_type": "stream",
     "text": [
      "From C Library: func_many_args: int - 15, double - 18.161700, char - X, short - 32000\n",
      "From Python Script: func_many_args:  X\n"
     ]
    }
   ],
   "source": [
    "lib.func_many_args.restype = ctypes.c_char\n",
    "lib.func_many_args.argtypes = [ctypes.c_int, ctypes.c_double, ctypes.c_char, ctypes.c_short]\n",
    "with capture_c_stdout():\n",
    "    print('From Python Script: func_many_args: ',\n",
    "      lib.func_many_args(15, 18.1617, 'X'.encode('utf-8'), 32000).decode(\"utf-8\"))"
   ],
   "metadata": {
    "collapsed": false,
    "pycharm": {
     "name": "#%%\n"
    }
   }
  },
  {
   "cell_type": "markdown",
   "source": [
    "Ctypes also allows to access and modify variables from C library. In `c_library/vars.h` we have defined following variables\n",
    "```c\n",
    "int a = 5;\n",
    "double b = 5.12345;\n",
    "char c = 'X';\n",
    "```\n",
    "\n",
    "To access variables from loaded C library we need ro use `in_dll()` class method of corresponding data type of variable\n",
    "we going to access. `in_dll()` requires two input arguments - the 1st is an loaded library handler, and the 2nd is string\n",
    "with variable name. E.g.:"
   ],
   "metadata": {
    "collapsed": false
   }
  },
  {
   "cell_type": "code",
   "execution_count": 9,
   "outputs": [
    {
     "name": "stdout",
     "output_type": "stream",
     "text": [
      "From Python Script: a:  5\n",
      "From Python Script: b:  5.12345\n",
      "From Python Script: c:  X\n"
     ]
    }
   ],
   "source": [
    "a = ctypes.c_int.in_dll(lib, \"a\")\n",
    "print('From Python Script: a: ', a.value)\n",
    "b = ctypes.c_double.in_dll(lib, \"b\")\n",
    "print('From Python Script: b: ', b.value)\n",
    "c = ctypes.c_char.in_dll(lib, \"c\")\n",
    "print('From Python Script: c: ', c.value.decode(\"utf-8\"))\n"
   ],
   "metadata": {
    "collapsed": false,
    "pycharm": {
     "name": "#%%\n"
    }
   }
  },
  {
   "cell_type": "markdown",
   "source": [
    "Variables exported form a library can be modified in a following way"
   ],
   "metadata": {
    "collapsed": false,
    "pycharm": {
     "name": "#%% md\n"
    }
   }
  },
  {
   "cell_type": "code",
   "execution_count": 10,
   "outputs": [
    {
     "name": "stdout",
     "output_type": "stream",
     "text": [
      "'a' initial value: 5\n",
      "'a' modified value: 22\n"
     ]
    }
   ],
   "source": [
    "print(f\"'a' initial value: {a.value}\")\n",
    "a.value = 22\n",
    "a = ctypes.c_int.in_dll(lib, \"a\")\n",
    "print(f\"'a' modified value: {a.value}\")"
   ],
   "metadata": {
    "collapsed": false,
    "pycharm": {
     "name": "#%%\n"
    }
   }
  },
  {
   "cell_type": "markdown",
   "source": [
    "OK, it were a simple examples which barely will be used in real life and were provided as introduction and way\n",
    "to understand how ctypes works. But what about real life examples?\n",
    "\n",
    "Bellow we will have a look on how to have a deal with C arrays basing on manipulation with numpy arrays.\n",
    "\n",
    "### Updating existing array\n",
    "\n",
    "*c_library/arrays.c*\n",
    "```c\n",
    "void arr_minus_one(int *data, unsigned int arr_size) {\n",
    "    printf(\"From C Library:\\n\");\n",
    "    for (int i = 0; i < arr_size; ++i) {\n",
    "        data[i] = data[i] - 1;\n",
    "        printf(\"%d \", data[i]);\n",
    "    }\n",
    "}\n",
    "```\n",
    "**Getting pointer from numpy array**\n",
    "# TODO: INITIAL ARRAY NOT MODIFIED.\n",
    "ctypes.data_as(ctypes.c_void_p) copies memory?"
   ],
   "metadata": {
    "collapsed": false
   }
  },
  {
   "cell_type": "code",
   "execution_count": 11,
   "outputs": [
    {
     "name": "stdout",
     "output_type": "stream",
     "text": [
      "Python numpy array:\n",
      " [[1 2 3]\n",
      " [4 5 6]\n",
      " [7 8 9]]\n",
      "From C Library:\n",
      "0 1 2 3 4 5 6 7 8 Updated python numpy array:\n",
      " [[0 1 2]\n",
      " [3 4 5]\n",
      " [6 7 8]]\n"
     ]
    }
   ],
   "source": [
    "import numpy as np\n",
    "\n",
    "arr = np.asarray([[1, 2, 3], [4, 5, 6], [7, 8, 9]], dtype=np.int32)\n",
    "data_p = arr.ctypes.data_as(ctypes.POINTER(ctypes.c_int))\n",
    "arr_size = arr.size\n",
    "el_size = arr.itemsize\n",
    "dtype = str(arr.dtype).encode('utf-8')\n",
    "\n",
    "lib.arr_minus_one.restype = None\n",
    "lib.arr_minus_one.argtypes = [ctypes.POINTER(ctypes.c_int), ctypes.c_uint]\n",
    "print(f\"Python numpy array:\\n {arr}\")\n",
    "with capture_c_stdout():\n",
    "    lib.arr_minus_one(data_p, arr_size, el_size, dtype)\n",
    "print(f\"Updated python numpy array:\\n {arr}\")"
   ],
   "metadata": {
    "collapsed": false,
    "pycharm": {
     "name": "#%%\n"
    }
   }
  },
  {
   "cell_type": "markdown",
   "source": [
    "**Getting pointer from python list**"
   ],
   "metadata": {
    "collapsed": false
   }
  },
  {
   "cell_type": "code",
   "execution_count": 12,
   "outputs": [
    {
     "name": "stdout",
     "output_type": "stream",
     "text": [
      "Python list:\n",
      " [1, 2, 3, 4, 5, 6, 7, 8, 9]\n",
      "From C Library:\n",
      "0 1 2 3 4 5 6 7 8 Updated python list:\n",
      " [1, 2, 3, 4, 5, 6, 7, 8, 9]\n"
     ]
    }
   ],
   "source": [
    "arr = [1, 2, 3, 4, 5, 6, 7, 8, 9]\n",
    "data_p = (ctypes.c_int * len(arr))(*arr)\n",
    "arr_size = 9\n",
    "dtype = \"int32\".encode(\"utf-8\")\n",
    "print(f\"Python list:\\n {arr}\")\n",
    "with capture_c_stdout():\n",
    "    lib.arr_minus_one(data_p, arr_size)\n",
    "print(f\"Updated python list:\\n {arr}\")"
   ],
   "metadata": {
    "collapsed": false,
    "pycharm": {
     "name": "#%%\n"
    }
   }
  },
  {
   "cell_type": "markdown",
   "source": [
    "** Creating numpy array from pointer **\n",
    "\n",
    "```c\n",
    "int *gen_static_arr() {\n",
    "    static int arr[10];\n",
    "    for (int i = 0; i < 10; ++i) {\n",
    "        arr[i] = i;\n",
    "    }\n",
    "    return arr;\n",
    "}\n",
    "\n",
    "void gen_arr(int *arr, unsigned int size) {\n",
    "    for (int i = 0; i < size; ++i) {\n",
    "        arr[i] = i;\n",
    "    }\n",
    "}\n",
    "```"
   ],
   "metadata": {
    "collapsed": false
   }
  },
  {
   "cell_type": "code",
   "execution_count": 13,
   "outputs": [
    {
     "name": "stdout",
     "output_type": "stream",
     "text": [
      "Flat numpy array:\n",
      " [0 1 2 3 4 5 6 7 8 9]\n",
      "Shaped numpy array:\n",
      " [[0 1]\n",
      " [2 3]\n",
      " [4 5]\n",
      " [6 7]\n",
      " [8 9]]\n"
     ]
    }
   ],
   "source": [
    "lib.gen_static_arr.restype = ctypes.POINTER(ctypes.c_int)\n",
    "lib.gen_static_arr.argtypes = None\n",
    "data_p = lib.gen_static_arr()\n",
    "\n",
    "# Create from ctypes array\n",
    "ctypes_arr = (ctypes.c_int * 10).from_address(ctypes.addressof(data_p.contents))\n",
    "flat_arr = np.ctypeslib.as_array(ctypes_arr, shape=(2, 5))  # Shape ignored\n",
    "print(f\"Flat numpy array:\\n {flat_arr}\")\n",
    "# Create from pointer directly\n",
    "shaped_array = np.ctypeslib.as_array(data_p, shape=(5, 2))\n",
    "print(f\"Shaped numpy array:\\n {shaped_array}\")\n"
   ],
   "metadata": {
    "collapsed": false,
    "pycharm": {
     "name": "#%%\n"
    }
   }
  },
  {
   "cell_type": "markdown",
   "source": [
    "```c\n",
    "void gen_arr(int *arr, unsigned int size) {\n",
    "    for (int i = 0; i < size; ++i) {\n",
    "        arr[i] = i;\n",
    "    }\n",
    "}\n",
    "```\n",
    "**Create array from ctypes pointer**"
   ],
   "metadata": {
    "collapsed": false
   }
  },
  {
   "cell_type": "code",
   "execution_count": 14,
   "outputs": [
    {
     "name": "stdout",
     "output_type": "stream",
     "text": [
      "Shaped numpy array:\n",
      " [[ 0  1  2  3  4]\n",
      " [ 5  6  7  8  9]\n",
      " [10 11 12 13 14]]\n"
     ]
    }
   ],
   "source": [
    "lib.gen_arr.argtypes = [ctypes.POINTER(ctypes.c_int), ctypes.c_uint]\n",
    "lib.gen_arr.restype = None\n",
    "\n",
    "# Allocating memory\n",
    "i_arr = (ctypes.c_int * 15)()\n",
    "i_p = ctypes.cast(i_arr, ctypes.POINTER(ctypes.c_int))\n",
    "lib.gen_arr(i_p, 15)\n",
    "# Build numpy array\n",
    "shaped_array = np.ctypeslib.as_array(i_p, shape=(3, 5))\n",
    "print(f\"Shaped numpy array:\\n {shaped_array}\")\n",
    "\n"
   ],
   "metadata": {
    "collapsed": false,
    "pycharm": {
     "name": "#%%\n"
    }
   }
  },
  {
   "cell_type": "markdown",
   "source": [
    "**Write directly to numpy array's memory**"
   ],
   "metadata": {
    "collapsed": false
   }
  },
  {
   "cell_type": "code",
   "execution_count": 15,
   "outputs": [
    {
     "name": "stdout",
     "output_type": "stream",
     "text": [
      "Shaped numpy array:\n",
      " [[ 0  1  2  3  4]\n",
      " [ 5  6  7  8  9]\n",
      " [10 11 12 13 14]\n",
      " [15 16 17 18 19]\n",
      " [20 21 22 23 24]]\n"
     ]
    }
   ],
   "source": [
    "arr = np.ndarray(shape=(5, 5), dtype=np.int32)\n",
    "arr_p = arr.ctypes.data_as(ctypes.POINTER(ctypes.c_int))\n",
    "lib.gen_arr(arr_p, 25)\n",
    "print(f\"Shaped numpy array:\\n {arr}\")"
   ],
   "metadata": {
    "collapsed": false,
    "pycharm": {
     "name": "#%%\n"
    }
   }
  },
  {
   "cell_type": "markdown",
   "source": [
    "**Find library and callbacks**"
   ],
   "metadata": {
    "collapsed": false
   }
  },
  {
   "cell_type": "code",
   "execution_count": 16,
   "outputs": [
    {
     "name": "stdout",
     "output_type": "stream",
     "text": [
      "[0, 1, 1, 5, 5, 7, 12, 33, 43, 99]\n"
     ]
    }
   ],
   "source": [
    "from ctypes.util import find_library\n",
    "# libc and find_library\n",
    "libc = ctypes.CDLL(find_library('c'))\n",
    "\n",
    "a = (ctypes.c_int * 10)(5, 1, 7, 33, 99, 43, 12, 5, 1, 0)\n",
    "libc.qsort.restype = None\n",
    "\n",
    "# callbacks functions\n",
    "func_prototype = ctypes.CFUNCTYPE(ctypes.c_int, ctypes.POINTER(ctypes.c_int), ctypes.POINTER(ctypes.c_int))\n",
    "\n",
    "\n",
    "def py_cmp_func(a, b):\n",
    "    return a[0] - b[0]\n",
    "\n",
    "\n",
    "cmp_func = func_prototype(py_cmp_func)\n",
    "\n",
    "libc.qsort(a, len(a), ctypes.sizeof(ctypes.c_int), cmp_func)\n",
    "print([v for v in a])"
   ],
   "metadata": {
    "collapsed": false,
    "pycharm": {
     "name": "#%%\n"
    }
   }
  },
  {
   "cell_type": "markdown",
   "source": [
    "**Performance comparison**\n",
    "quick sort in C, Python and mixture (C with Python callback)"
   ],
   "metadata": {
    "collapsed": false
   }
  },
  {
   "cell_type": "code",
   "execution_count": 17,
   "outputs": [
    {
     "name": "stdout",
     "output_type": "stream",
     "text": [
      "Python qsort time: 5.020982058000001\n",
      "Sorted list slice [0, 1, 1, 2, 2, 2, 2, 3, 3, 4, 4, 4, 4, 4, 5, 5, 6, 6, 7, 7, 8, 8, 9, 10, 10, 11, 11, 11, 11, 13, 13, 15, 16, 16, 17, 17, 17, 17, 17, 17, 18, 18, 18, 18, 19, 20, 21, 21, 21, 22, 22, 23, 24, 24, 24, 25, 25, 25, 25, 25, 26, 27, 27, 28, 30, 31, 31, 31, 31, 31, 33, 33, 33, 33, 33, 33, 33, 34, 34, 34, 35, 35, 36, 37, 37, 37, 38, 39, 41, 41, 41, 43, 45, 45, 47, 47, 47, 48, 48, 49]\n",
      "libc qsort with callback py time: 10.490331202000007\n",
      "Sorted array slice [ 0  1  1  2  2  2  2  3  3  4  4  4  4  4  5  5  6  6  7  7  8  8  9 10\n",
      " 10 11 11 11 11 13 13 15 16 16 17 17 17 17 17 17 18 18 18 18 19 20 21 21\n",
      " 21 22 22 23 24 24 24 25 25 25 25 25 26 27 27 28 30 31 31 31 31 31 33 33\n",
      " 33 33 33 33 33 34 34 34 35 35 36 37 37 37 38 39 41 41 41 43 45 45 47 47\n",
      " 47 48 48 49]\n",
      "libc qsort wrap without py callback time: 0.13749935799999946\n",
      "Sorted array slice [ 0  2  2  3  3  4  4  4  4  4  5  5  5  6  7  8  9  9 10 10 10 11 11 11\n",
      " 11 12 13 13 14 15 16 17 17 17 18 18 19 20 20 20 23 23 23 23 23 24 25 25\n",
      " 28 28 29 30 31 31 33 33 34 34 34 35 35 35 38 39 39 39 40 40 40 40 41 42\n",
      " 43 43 43 43 43 44 44 45 45 45 45 45 46 46 46 47 47 47 48 48 49 49 49 50\n",
      " 51 52 53 53]\n"
     ]
    }
   ],
   "source": [
    "from timeit import default_timer\n",
    "import random\n",
    "\n",
    "def py_qsort(nums):\n",
    "    if len(nums) <= 1:\n",
    "        return nums\n",
    "    else:\n",
    "        q = random.choice(nums)\n",
    "    l_nums = [n for n in nums if n < q]\n",
    "\n",
    "    e_nums = [q] * nums.count(q)\n",
    "    b_nums = [n for n in nums if n > q]\n",
    "    return py_qsort(l_nums) + e_nums + py_qsort(b_nums)\n",
    "\n",
    "rand_arr = np.random.randint(low=0, high=500000, size=1000000, dtype=np.int32)\n",
    "\n",
    "rand_list = list(rand_arr)\n",
    "t0 = default_timer()\n",
    "sorted_arr = py_qsort(rand_list)\n",
    "t1 = default_timer()\n",
    "print(f\"Python qsort time: {t1 - t0}\")\n",
    "print(f\"Sorted list slice {sorted_arr[0:100]}\")\n",
    "\n",
    "rand_data_p = rand_arr.ctypes.data_as(ctypes.POINTER(ctypes.c_int))\n",
    "t0 = default_timer()\n",
    "libc.qsort(rand_data_p, rand_arr.size, ctypes.sizeof(ctypes.c_int), cmp_func)\n",
    "t1 = default_timer()\n",
    "print(f\"libc qsort with callback py time: {t1 - t0}\")\n",
    "print(f\"Sorted array slice {rand_arr[0:100]}\")\n",
    "\n",
    "rand_arr = np.random.randint(low=0, high=500000, size=1000000, dtype=np.int32)\n",
    "rand_data_p = rand_arr.ctypes.data_as(ctypes.POINTER(ctypes.c_int))\n",
    "lib.qsort_wrap.restype = None\n",
    "t0 = default_timer()\n",
    "lib.qsort_wrap(rand_data_p, rand_arr.size, ctypes.sizeof(ctypes.c_int))\n",
    "t1 = default_timer()\n",
    "print(f\"libc qsort wrap without py callback time: {t1 - t0}\")\n",
    "print(f\"Sorted array slice {rand_arr[0:100]}\")"
   ],
   "metadata": {
    "collapsed": false,
    "pycharm": {
     "name": "#%%\n"
    }
   }
  },
  {
   "cell_type": "markdown",
   "source": [],
   "metadata": {
    "collapsed": false
   }
  },
  {
   "cell_type": "markdown",
   "source": [
    "### CFFI demo\n",
    "\n",
    "**Constants**"
   ],
   "metadata": {
    "collapsed": false
   }
  },
  {
   "cell_type": "code",
   "execution_count": 24,
   "outputs": [],
   "source": [
    "lib_path = \"./cmake-build-debug/libbindings_demo.dylib\"\n",
    "include = os.path.join(\"./c_library\", \"library.h\")"
   ],
   "metadata": {
    "collapsed": false,
    "pycharm": {
     "name": "#%%\n"
    }
   }
  },
  {
   "cell_type": "markdown",
   "source": [
    "#### In-Line ABI Mode\n",
    "Opens precompiled lib"
   ],
   "metadata": {
    "collapsed": false
   }
  },
  {
   "cell_type": "code",
   "execution_count": 56,
   "outputs": [],
   "source": [
    "import cffi\n",
    "ffi = cffi.FFI()\n",
    "with open(include) as f:\n",
    "    ffi.cdef(f.read())"
   ],
   "metadata": {
    "collapsed": false,
    "pycharm": {
     "name": "#%%\n"
    }
   }
  },
  {
   "cell_type": "markdown",
   "source": [
    "Library usage"
   ],
   "metadata": {
    "collapsed": false
   }
  },
  {
   "cell_type": "code",
   "execution_count": 57,
   "outputs": [
    {
     "name": "stderr",
     "output_type": "stream",
     "text": [
      "[ INFO ] In-line ABI import time 0.0005997599996589997\n"
     ]
    },
    {
     "name": "stdout",
     "output_type": "stream",
     "text": [
      "From C Library: func_ret_str: Some str\n",
      "From Python Script: Some str\n"
     ]
    }
   ],
   "source": [
    "t0 = default_timer()\n",
    "lib = ffi.dlopen(lib_path)\n",
    "t1 = default_timer()\n",
    "log.info(f\"In-line ABI import time {t1 - t0}\")\n",
    "with capture_c_stdout():\n",
    "    res = lib.func_ret_str(\"Some str\".encode(\"utf-8\"))\n",
    "    print(f\"From Python Script: {ffi.string(res).decode('utf-8')}\")"
   ],
   "metadata": {
    "collapsed": false,
    "pycharm": {
     "name": "#%%\n"
    }
   }
  },
  {
   "cell_type": "markdown",
   "source": [
    "#### Out-of-Line ABI Mode\n",
    "Opens precompiled lib with creating python module with binary info which speed-ups import time"
   ],
   "metadata": {
    "collapsed": false
   }
  },
  {
   "cell_type": "code",
   "execution_count": 60,
   "outputs": [
    {
     "name": "stderr",
     "output_type": "stream",
     "text": [
      "[ INFO ] Content of resulting folder\n"
     ]
    },
    {
     "name": "stdout",
     "output_type": "stream",
     "text": [
      "./cffi_libs/out_of_line_abi/:\n",
      "    __pycache__\n",
      "    _bindings_demo.py\n"
     ]
    }
   ],
   "source": [
    "# Need to reload cffi module and ffi object to allow to redefine header file and sources\n",
    "# (Such trick required only for this jupyter notebook)\n",
    "if \"cffi\" in globals():\n",
    "    globals().pop(\"cffi\")\n",
    "if \"ffi\" in globals():\n",
    "    globals().pop(\"ffi\")\n",
    "import cffi\n",
    "ffi = cffi.FFI()\n",
    "with open(include) as f:\n",
    "    ffi.cdef(f.read())\n",
    "\n",
    "ffi.set_source(\"cffi_libs.out_of_line_abi._bindings_demo\", None)\n",
    "ffi.compile()\n",
    "target_module = \"./cffi_libs/out_of_line_abi/_bindings_demo.py\"\n",
    "if not os.path.exists(target_module):\n",
    "    raise FileNotFoundError(f\"{target_module} not found! Possibly CFFI module compilation failed!\")\n",
    "log.info(\"Content of resulting folder\")\n",
    "print(\"./cffi_libs/out_of_line_abi/:\")\n",
    "for entry in os.listdir(\"./cffi_libs/out_of_line_abi/\"):\n",
    "    print(f\"    {entry}\")"
   ],
   "metadata": {
    "collapsed": false,
    "pycharm": {
     "name": "#%%\n"
    }
   }
  },
  {
   "cell_type": "markdown",
   "source": [
    "Created module usage"
   ],
   "metadata": {
    "collapsed": false,
    "pycharm": {
     "name": "#%% md\n"
    }
   }
  },
  {
   "cell_type": "code",
   "execution_count": 37,
   "outputs": [
    {
     "name": "stdout",
     "output_type": "stream",
     "text": [
      "Out-of-line ABI import time 0.00011174399992341932\n",
      "From C Library: func_ret_str: Some str\n",
      "From Python Script: Some str\n"
     ]
    }
   ],
   "source": [
    "from cffi_libs.out_of_line_abi._bindings_demo import ffi as out_of_line_abi_ffi\n",
    "t0 = default_timer()\n",
    "lib = out_of_line_abi_ffi.dlopen(lib_path)\n",
    "t1 = default_timer()\n",
    "log.info(f\"Out-of-line ABI import time {t1 - t0}\")\n",
    "with capture_c_stdout():\n",
    "    res = lib.func_ret_str(\"Some str\".encode(\"utf-8\"))\n",
    "    print(f\"From Python Script: {ffi.string(res).decode('utf-8')}\")"
   ],
   "metadata": {
    "collapsed": false,
    "pycharm": {
     "name": "#%%\n"
    }
   }
  },
  {
   "cell_type": "markdown",
   "source": [
    "#### Out-of-Line API Mode\n",
    "Compiles importable python library linked against our shared library."
   ],
   "metadata": {
    "collapsed": false,
    "pycharm": {
     "name": "#%% md\n"
    }
   }
  },
  {
   "cell_type": "code",
   "execution_count": 63,
   "outputs": [
    {
     "name": "stderr",
     "output_type": "stream",
     "text": [
      "[ INFO ] Content of resulting folder\n"
     ]
    },
    {
     "name": "stdout",
     "output_type": "stream",
     "text": [
      "./cffi_libs/out_of_line_api\n",
      "    _bindings_demo.cpython-38-darwin.so\n",
      "    _bindings_demo.c\n",
      "    _bindings_demo.o\n"
     ]
    }
   ],
   "source": [
    "if \"cffi\" in globals():\n",
    "    globals().pop(\"cffi\")\n",
    "if \"ffi\" in globals():\n",
    "    globals().pop(\"ffi\")\n",
    "import cffi\n",
    "ffi = cffi.FFI()\n",
    "with open(include) as f:\n",
    "    ffi.cdef(f.read())\n",
    "module_name = \"_bindings_demo\"\n",
    "ffi.set_source(module_name,  # name of compiled library\n",
    "               # Source code to be compiled along with CFFI-generated wrapper code\n",
    "               f'#include \"{include}\"',\n",
    "               # Libraries to link compiled CFFI module with (no extension and 'lib' prefix)\n",
    "               # Passed directly to compiler as '-l' option\n",
    "               libraries=[\"bindings_demo\"],\n",
    "               library_dirs=[os.path.dirname(lib_path)],\n",
    "               )\n",
    "target_dir = './cffi_libs/out_of_line_api'\n",
    "ffi.compile(tmpdir=target_dir)\n",
    "\n",
    "log.info(\"Content of resulting folder\")\n",
    "print(target_dir)\n",
    "target_module_found = False\n",
    "library_name = None\n",
    "for entry in os.listdir(target_dir):\n",
    "    print(f\"    {entry}\")\n",
    "    if entry.startswith(module_name) and entry.endswith(\".so\"):  # both Linux and MacOS creates .so file\n",
    "        library_name = entry\n",
    "        target_module_found = True\n",
    "\n",
    "if not target_module_found:\n",
    "    raise FileNotFoundError(f\"{target_module} library not found! Possibly CFFI module compilation failed!\")"
   ],
   "metadata": {
    "collapsed": false,
    "pycharm": {
     "name": "#%%\n"
    }
   }
  },
  {
   "cell_type": "markdown",
   "source": [
    "Note that compiled python module dynamically linked against initial 'bindings_demo' library"
   ],
   "metadata": {
    "collapsed": false,
    "pycharm": {
     "name": "#%% md\n"
    }
   }
  },
  {
   "cell_type": "code",
   "execution_count": 67,
   "outputs": [
    {
     "name": "stderr",
     "output_type": "stream",
     "text": [
      "[ INFO ] _bindings_demo.cpython-38-darwin.so library dependencies:\n",
      "./cffi_libs/out_of_line_api/_bindings_demo.cpython-38-darwin.so:\n",
      "\t@rpath/libbindings_demo.dylib (compatibility version 0.0.0, current version 0.0.0)\n",
      "\t/usr/lib/libSystem.B.dylib (compatibility version 1.0.0, current version 1281.100.1)\n",
      "\n",
      "\n"
     ]
    }
   ],
   "source": [
    "if platform == \"darwin\":\n",
    "    command = ['otool', '-L', os.path.join(target_dir, library_name)]\n",
    "elif platform.startswith(\"linux\"):\n",
    "    command = ['ldd', os.path.join(target_dir, library_name)]\n",
    "p = subprocess.run(command, stdout=subprocess.PIPE, stderr=subprocess.PIPE)\n",
    "\n",
    "if p.returncode != 0:\n",
    "    log.error(\"otool execution failed!\\n\"\n",
    "              f\"STDOUT:\\n {p.stdout.decode()}\\n\"\n",
    "              f\"STDERR:\\n {p.stderr.decode()}\\n\")\n",
    "else:\n",
    "    log.info(f\"{library_name} library dependencies:\\n\"\n",
    "             f\"{p.stdout.decode()}\\n\")"
   ],
   "metadata": {
    "collapsed": false,
    "pycharm": {
     "name": "#%%\n"
    }
   }
  },
  {
   "cell_type": "markdown",
   "source": [
    "Compiled module usage example"
   ],
   "metadata": {
    "collapsed": false,
    "pycharm": {
     "name": "#%% md\n"
    }
   }
  },
  {
   "cell_type": "code",
   "execution_count": 53,
   "outputs": [
    {
     "name": "stdout",
     "output_type": "stream",
     "text": [
      "From C Library: func_ret_str: Some str\n",
      "From Python Script: Some str\n"
     ]
    }
   ],
   "source": [
    "from cffi_libs.out_of_line_api._bindings_demo import ffi as out_of_line_api_ffi\n",
    "from cffi_libs.out_of_line_api._bindings_demo import lib as out_of_line_api_lib\n",
    "\n",
    "# dlopen not required\n",
    "with capture_c_stdout():\n",
    "    res = out_of_line_api_lib.func_ret_str(\"Some str\".encode(\"utf-8\"))\n",
    "    print(f\"From Python Script: {out_of_line_api_ffi.string(res).decode('utf-8')}\")"
   ],
   "metadata": {
    "collapsed": false,
    "pycharm": {
     "name": "#%%\n"
    }
   }
  },
  {
   "cell_type": "markdown",
   "source": [
    "#### Some extra usage examples\n",
    "\n",
    "Another possible way of using Out-of-Line API mode which allows to avoid dynamic dependencies\n",
    "is to specify all C sources right in `ffi.set_source()` method and do not add dependency libraries.\n",
    "``` python\n",
    "ffi.set_source(\"_my_module,  # name of compiled library\n",
    "               # Source code to be compiled along with CFFI-generated wrapper code\n",
    "               '''\n",
    "                #include \"library.h\"\n",
    "\n",
    "                #include <stdio.h>\n",
    "                #include <string.h>\n",
    "                #include <unistd.h>\n",
    "\n",
    "                int func_ret_int(int val) {\n",
    "                    printf(\"From C Library: func_ret_int: %d\\n\", val);\n",
    "                    return val;\n",
    "                }\n",
    "                ''',\n",
    "               # Libraries to link compiled CFFI module with (no extension and 'lib' prefix)\n",
    "               # Passed directly to compiler as '-l' option\n",
    "               libraries=[],\n",
    "               )\n",
    "```"
   ],
   "metadata": {
    "collapsed": false,
    "pycharm": {
     "name": "#%% md\n"
    }
   }
  },
  {
   "cell_type": "markdown",
   "source": [
    "Finally, you can (but don’t have to) use CFFI’s Distutils or Setuptools integration when writing a setup.py.\n",
    "\n",
    "For Distutils (only in out-of-line API mode):\n",
    "``` python\n",
    "# setup.py (requires CFFI to be installed first)\n",
    "from distutils.core import setup\n",
    "\n",
    "import foo_build   # possibly with sys.path tricks to find it\n",
    "\n",
    "setup(\n",
    "    ...,\n",
    "    ext_modules=[foo_build.ffibuilder.distutils_extension()],\n",
    ")\n",
    "```\n",
    "\n",
    "For Setuptools (out-of-line, but works in ABI or API mode; recommended):\n",
    "``` python\n",
    "# setup.py (with automatic dependency tracking)\n",
    "from setuptools import setup\n",
    "\n",
    "setup(\n",
    "    ...,\n",
    "    setup_requires=[\"cffi>=1.0.0\"],\n",
    "    cffi_modules=[\"package/foo_build.py:ffibuilder\"],\n",
    "    install_requires=[\"cffi>=1.0.0\"],\n",
    ")\n",
    "```\n",
    "Note again that the foo_build.py example contains the following lines, which mean that the ffi builder is not\n",
    "actually compiled when package.foo_build is merely imported—it will be compiled independently by the Setuptools logic,\n",
    "using compilation parameters provided by Setuptools:\n",
    "\n",
    "``` python\n",
    "if __name__ == \"__main__\":    # not when running with setuptools\n",
    "    ffibuilder.compile(verbose=True)\n",
    "```"
   ],
   "metadata": {
    "collapsed": false
   }
  },
  {
   "cell_type": "markdown",
   "source": [
    "Using `...` in `ffi.cdef()` allows to skip some part of declarations in case of explicit declarations specification\n",
    "(as a multiline string) and 'ask' C compiler to fill the gaps. Such way of declaration can be convenient in some\n",
    "cases e.g. for `struct{}` or `union{}` declaration.\n",
    "More details in the [documentation](https://cffi.readthedocs.io/en/latest/cdef.html#letting-the-c-compiler-fill-the-gaps)."
   ],
   "metadata": {
    "collapsed": false
   }
  }
 ],
 "metadata": {
  "kernelspec": {
   "display_name": "Python 3",
   "language": "python",
   "name": "python3"
  },
  "language_info": {
   "codemirror_mode": {
    "name": "ipython",
    "version": 2
   },
   "file_extension": ".py",
   "mimetype": "text/x-python",
   "name": "python",
   "nbconvert_exporter": "python",
   "pygments_lexer": "ipython2",
   "version": "2.7.6"
  }
 },
 "nbformat": 4,
 "nbformat_minor": 0
}