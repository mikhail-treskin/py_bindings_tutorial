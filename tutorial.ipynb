{
 "cells": [
  {
   "cell_type": "markdown",
   "source": [
    "Install binary dependencies and required python modules:\n",
    "* CMake\n",
    "* CFFI\n",
    "* Cython\n",
    "* PyBind11"
   ],
   "metadata": {
    "collapsed": false
   }
  },
  {
   "cell_type": "code",
   "execution_count": 13,
   "outputs": [
    {
     "name": "stderr",
     "output_type": "stream",
     "text": [
      "[  INFO  ] Checking for installed CMake...\n",
      "[  INFO  ] CMake executable found at /usr/local/bin/cmake\n",
      "\n",
      "[  INFO  ] Installing required python modules...\n",
      "[  INFO  ] Installation succeed!\n",
      "Process STDOUT:\n",
      "Requirement already satisfied: cffi in ./venv/lib/python3.7/site-packages (from -r requirements.txt (line 1)) (1.14.2)\n",
      "Requirement already satisfied: cython in ./venv/lib/python3.7/site-packages (from -r requirements.txt (line 2)) (0.29.21)\n",
      "Collecting pybind11\n",
      "  Downloading pybind11-2.5.0-py2.py3-none-any.whl (296 kB)\n",
      "Requirement already satisfied: pycparser in ./venv/lib/python3.7/site-packages (from cffi->-r requirements.txt (line 1)) (2.20)\n",
      "Installing collected packages: pybind11\n",
      "Successfully installed pybind11-2.5.0\n",
      "\n",
      "Process STDERR:\n",
      "\n"
     ]
    }
   ],
   "source": [
    "from sys import platform\n",
    "import logging as log\n",
    "import subprocess\n",
    "\n",
    "log.basicConfig(format='[ %(levelname)s ] %(message)s', level=log.DEBUG)\n",
    "\n",
    "log.info(\"Checking for installed CMake...\")\n",
    "p = subprocess.run(['which', 'cmake'], stdout=subprocess.PIPE, stderr=subprocess.PIPE)\n",
    "if p.returncode == 0:\n",
    "    log.info(f\"CMake executable found at {p.stdout.decode()}\")\n",
    "else:\n",
    "    log.warn(\"CMake executable not found! Installing ... \")\n",
    "    cmd = ['brew', 'install', 'cmake'] if platform == 'darwin' else ['apt', 'install', 'cmake']\n",
    "    log.info(f\"Running: {' '.join(cmd)}...\")\n",
    "    p = subprocess.run(cmd, stdout=subprocess.PIPE, stderr=subprocess.PIPE)\n",
    "    if p.returncode != 0:\n",
    "        log.error(f\"Failed to install cmake.\\n\"\n",
    "                  f\"Process STDOUT:\\n{p.stdout.decode()}\\n\"\n",
    "                  f\"Process STDERR:\\n{p.stderr.decode()}\")\n",
    "    else:\n",
    "        log.info(\"Installation succeed!\")\n",
    "\n",
    "log.info(\"Installing required python modules...\")\n",
    "p = subprocess.run(['pip', 'install', '-r', 'requirements.txt'], stdout=subprocess.PIPE, stderr=subprocess.PIPE)\n",
    "if p.returncode != 0:\n",
    "    log.error(f\"Failed to install required python modules.\\n\"\n",
    "              f\"Process STDOUT:\\n{p.stdout.decode()}\\n\"\n",
    "              f\"Process STDERR:\\n{p.stderr.decode()}\")\n",
    "else:\n",
    "    log.info(\"Installation succeed!\\n\"\n",
    "             f\"Process STDOUT:\\n{p.stdout.decode()}\\n\"\n",
    "             f\"Process STDERR:\\n{p.stderr.decode()}\")"
   ],
   "metadata": {
    "collapsed": false,
    "pycharm": {
     "name": "#%%\n"
    }
   }
  },
  {
   "cell_type": "markdown",
   "source": [
    "C library sources\n",
    "\n",
    "src/c/library.h\n",
    "```c\n",
    "int func_ret_int(int val);\n",
    "double func_ret_double(double val);\n",
    "char *func_ret_str(char *val);\n",
    "char func_many_args(int val1, double val2, char val3, short val4);\n",
    "```\n",
    "src/c/library.c\n",
    "```c\n",
    "#include \"library.h\"\n",
    "\n",
    "#include <stdio.h>\n",
    "#include <string.h>\n",
    "#include <unistd.h>\n",
    "\n",
    "int a = 5;\n",
    "double b = 5.12345;\n",
    "char c = 'X';\n",
    "\n",
    "int func_ret_int(int val) {\n",
    "    printf(\"From C Library: func_ret_int: %d\\n\", val);\n",
    "    return val;\n",
    "}\n",
    "\n",
    "double func_ret_double(double val) {\n",
    "    printf(\"From C Library: func_ret_double: %f\\n\", val);\n",
    "    return val;\n",
    "}\n",
    "\n",
    "char * func_ret_str(char *val) {\n",
    "    printf(\"From C Library: func_ret_str: %s\\n\", val);\n",
    "    return val;\n",
    "}\n",
    "\n",
    "char func_many_args(int val1, double val2, char val3, short val4) {\n",
    "    printf(\"From C Library: func_many_args: int - %d, double - %f, char - %c, short - %d\\n\", val1, val2, val3, val4);\n",
    "    return val3;\n",
    "}\n",
    "```"
   ],
   "metadata": {
    "collapsed": false
   }
  }
 ],
 "metadata": {
  "kernelspec": {
   "display_name": "Python 3",
   "language": "python",
   "name": "python3"
  },
  "language_info": {
   "codemirror_mode": {
    "name": "ipython",
    "version": 2
   },
   "file_extension": ".py",
   "mimetype": "text/x-python",
   "name": "python",
   "nbconvert_exporter": "python",
   "pygments_lexer": "ipython2",
   "version": "2.7.6"
  }
 },
 "nbformat": 4,
 "nbformat_minor": 0
}